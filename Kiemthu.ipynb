{
  "nbformat": 4,
  "nbformat_minor": 0,
  "metadata": {
    "colab": {
      "provenance": []
    },
    "kernelspec": {
      "name": "python3",
      "display_name": "Python 3"
    },
    "language_info": {
      "name": "python"
    }
  },
  "cells": [
    {
      "cell_type": "code",
      "execution_count": null,
      "metadata": {
        "id": "3SZjIXH1UPhb"
      },
      "outputs": [],
      "source": [
        "def calculate_shipping_cost(weight, distance):\n",
        "    if weight <= 0 or weight > 100 or distance <= 0 or distance > 100:\n",
        "        return \"Đầu vào không hợp lệ\"\n",
        "\n",
        "    base_cost = 20000\n",
        "\n",
        "    if weight <= 20:\n",
        "        weight_cost = 0\n",
        "    else:\n",
        "        weight_cost = 20000\n",
        "\n",
        "    if distance < 5:\n",
        "        distance_cost = 0\n",
        "    elif distance < 10:\n",
        "        distance_cost = 10000\n",
        "    else:\n",
        "        return \"Thỏa thuận\"\n",
        "\n",
        "    return base_cost + weight_cost + distance_cost"
      ]
    },
    {
      "cell_type": "code",
      "source": [
        "\n",
        "def calculate_shipping_cost(weight, distance):\n",
        "    if weight <= 0 or weight > 100 or distance <= 0 or distance > 100:\n",
        "        return \"Đầu vào không hợp lệ\"\n",
        "\n",
        "    cost = 20000  # Phí cơ bản\n",
        "\n",
        "    if weight > 20:\n",
        "        cost += 20000\n",
        "\n",
        "    if 5 <= distance < 10:\n",
        "        cost += 10000\n",
        "    elif distance >= 10:\n",
        "        return \"Thỏa thuận\"\n",
        "\n",
        "    return cost\n"
      ],
      "metadata": {
        "id": "uxFKgSIwQDd6"
      },
      "execution_count": null,
      "outputs": []
    },
    {
      "cell_type": "code",
      "source": [
        "def test_case(id, weight, distance, expected_output):\n",
        "    actual_output = calculate_shipping_cost(weight, distance)\n",
        "    result = \"Pass\" if actual_output == expected_output else \"Fail\"\n",
        "    print(f\"Test case {id}: weight={weight}, distance={distance}\")\n",
        "    print(f\"Expected: {expected_output}, Actual: {actual_output}, Result: {result}\")\n",
        "    print(\"-\" * 50)"
      ],
      "metadata": {
        "id": "lZojXgyC3R9w"
      },
      "execution_count": 22,
      "outputs": []
    },
    {
      "cell_type": "markdown",
      "source": [
        "# **WEEK 4**"
      ],
      "metadata": {
        "id": "4YPuZyB8Yofv"
      }
    },
    {
      "cell_type": "code",
      "source": [
        "cases = [\n",
        "    (1, -5, 10, \"Đầu vào không hợp lệ\"),\n",
        "    (2, 10, 3, 20000),\n",
        "    (3, 15, 6, 30000),\n",
        "    (4, 18, 12, \"Thỏa thuận\"),\n",
        "    (5, 25, 4, 40000),\n",
        "    (6, 30, 20, \"Thỏa thuận\"),\n",
        "]\n",
        "\n",
        "for case in cases:\n",
        "    test_case(*case)"
      ],
      "metadata": {
        "colab": {
          "base_uri": "https://localhost:8080/"
        },
        "id": "pgo6RLhR3UbN",
        "outputId": "26b9972d-fe5a-4e27-de1e-cea063c7aaf0"
      },
      "execution_count": null,
      "outputs": [
        {
          "output_type": "stream",
          "name": "stdout",
          "text": [
            "Test case 1: weight=-5, distance=10\n",
            "Expected: Đầu vào không hợp lệ, Actual: Đầu vào không hợp lệ, Result: Pass\n",
            "--------------------------------------------------\n",
            "Test case 2: weight=10, distance=3\n",
            "Expected: 20000, Actual: 20000, Result: Pass\n",
            "--------------------------------------------------\n",
            "Test case 3: weight=15, distance=6\n",
            "Expected: 30000, Actual: 30000, Result: Pass\n",
            "--------------------------------------------------\n",
            "Test case 4: weight=18, distance=12\n",
            "Expected: Thỏa thuận, Actual: Thỏa thuận, Result: Pass\n",
            "--------------------------------------------------\n",
            "Test case 5: weight=25, distance=4\n",
            "Expected: 40000, Actual: 40000, Result: Pass\n",
            "--------------------------------------------------\n",
            "Test case 6: weight=30, distance=20\n",
            "Expected: Thỏa thuận, Actual: Thỏa thuận, Result: Pass\n",
            "--------------------------------------------------\n"
          ]
        }
      ]
    },
    {
      "cell_type": "markdown",
      "source": [
        "# WEEK 5"
      ],
      "metadata": {
        "id": "mRTgh8q8YuPq"
      }
    },
    {
      "cell_type": "code",
      "source": [
        "calculate_shipping_cost(25, 9)"
      ],
      "metadata": {
        "colab": {
          "base_uri": "https://localhost:8080/"
        },
        "id": "O7KCFnjuYwYE",
        "outputId": "011e56ce-4c8c-4a17-8aec-97f8d55a1a4b"
      },
      "execution_count": 19,
      "outputs": [
        {
          "output_type": "execute_result",
          "data": {
            "text/plain": [
              "50000"
            ]
          },
          "metadata": {},
          "execution_count": 19
        }
      ]
    },
    {
      "cell_type": "code",
      "source": [
        "test_cases = [\n",
        "    (1, 0, 10, \"Đầu vào không hợp lệ\"),\n",
        "    (2, 10, 9, 30000),\n",
        "    (3, 1, 0, \"Đầu vào không hợp lệ\"),\n",
        "    (4, 10, 9, 30000),\n",
        "    (5, 10, 9, 30000),\n",
        "    (6, 25, 9, 50000),\n",
        "    (7, 10, 9, 30000),\n",
        "    (8, 25, 10, \"Thỏa thuận\"),\n",
        "]\n",
        "for case in test_cases:\n",
        "    test_case(*case)"
      ],
      "metadata": {
        "colab": {
          "base_uri": "https://localhost:8080/"
        },
        "id": "rLpHFzhtbmK5",
        "outputId": "ffa157be-3fe7-4122-b82a-bc81788adf4e"
      },
      "execution_count": 26,
      "outputs": [
        {
          "output_type": "stream",
          "name": "stdout",
          "text": [
            "Test case 1: weight=0, distance=10\n",
            "Expected: Đầu vào không hợp lệ, Actual: Đầu vào không hợp lệ, Result: Pass\n",
            "--------------------------------------------------\n",
            "Test case 2: weight=10, distance=9\n",
            "Expected: 30000, Actual: 30000, Result: Pass\n",
            "--------------------------------------------------\n",
            "Test case 3: weight=1, distance=0\n",
            "Expected: Đầu vào không hợp lệ, Actual: Đầu vào không hợp lệ, Result: Pass\n",
            "--------------------------------------------------\n",
            "Test case 4: weight=10, distance=9\n",
            "Expected: 30000, Actual: 30000, Result: Pass\n",
            "--------------------------------------------------\n",
            "Test case 5: weight=10, distance=9\n",
            "Expected: 30000, Actual: 30000, Result: Pass\n",
            "--------------------------------------------------\n",
            "Test case 6: weight=25, distance=9\n",
            "Expected: 50000, Actual: 50000, Result: Pass\n",
            "--------------------------------------------------\n",
            "Test case 7: weight=10, distance=9\n",
            "Expected: 30000, Actual: 30000, Result: Pass\n",
            "--------------------------------------------------\n",
            "Test case 8: weight=25, distance=10\n",
            "Expected: Thỏa thuận, Actual: Thỏa thuận, Result: Pass\n",
            "--------------------------------------------------\n"
          ]
        }
      ]
    },
    {
      "cell_type": "code",
      "source": [],
      "metadata": {
        "id": "Weu34-eJcvR6"
      },
      "execution_count": null,
      "outputs": []
    }
  ]
}